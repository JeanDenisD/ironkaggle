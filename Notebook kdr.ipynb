{
 "cells": [
  {
   "cell_type": "code",
   "execution_count": 1,
   "id": "1bfa9d3d",
   "metadata": {},
   "outputs": [],
   "source": [
    "import pandas as pd\n",
    "import numpy as np\n",
    "import seaborn as sns\n",
    "import matplotlib as plt\n"
   ]
  },
  {
   "cell_type": "code",
   "execution_count": 2,
   "id": "b74957e6",
   "metadata": {},
   "outputs": [
    {
     "name": "stdout",
     "output_type": "stream",
     "text": [
      "   Unnamed: 0  store_ID  day_of_week        date  nb_customers_on_day  open  \\\n",
      "0      425390       366            4  2013-04-18                  517     1   \n",
      "1      291687       394            6  2015-04-11                  694     1   \n",
      "2      411278       807            4  2013-08-29                  970     1   \n",
      "3      664714       802            2  2013-05-28                  473     1   \n",
      "4      540835       726            4  2013-10-10                 1068     1   \n",
      "\n",
      "   promotion state_holiday  school_holiday  sales  \n",
      "0          0             0               0   4422  \n",
      "1          0             0               0   8297  \n",
      "2          1             0               0   9729  \n",
      "3          1             0               0   6513  \n",
      "4          1             0               0  10882  \n"
     ]
    }
   ],
   "source": [
    "customer_data = pd.read_csv(\"sales.csv\")\n",
    "\n",
    "print(customer_data.head())\n",
    "\n"
   ]
  },
  {
   "cell_type": "code",
   "execution_count": 3,
   "id": "6eec455e",
   "metadata": {},
   "outputs": [
    {
     "name": "stdout",
     "output_type": "stream",
     "text": [
      "Shape of the data:  (640840, 10)\n",
      "data types =  Unnamed: 0              int64\n",
      "store_ID                int64\n",
      "day_of_week             int64\n",
      "date                   object\n",
      "nb_customers_on_day     int64\n",
      "open                    int64\n",
      "promotion               int64\n",
      "state_holiday          object\n",
      "school_holiday          int64\n",
      "sales                   int64\n",
      "dtype: object\n",
      "          Unnamed: 0       store_ID    day_of_week  nb_customers_on_day  \\\n",
      "count  640840.000000  640840.000000  640840.000000        640840.000000   \n",
      "mean   355990.675084     558.211348       4.000189           633.398577   \n",
      "std    205536.290268     321.878521       1.996478           464.094416   \n",
      "min         0.000000       1.000000       1.000000             0.000000   \n",
      "25%    178075.750000     280.000000       2.000000           405.000000   \n",
      "50%    355948.500000     558.000000       4.000000           609.000000   \n",
      "75%    533959.250000     837.000000       6.000000           838.000000   \n",
      "max    712044.000000    1115.000000       7.000000          5458.000000   \n",
      "\n",
      "                open      promotion  school_holiday          sales  \n",
      "count  640840.000000  640840.000000   640840.000000  640840.000000  \n",
      "mean        0.830185       0.381718        0.178472    5777.469011  \n",
      "std         0.375470       0.485808        0.382910    3851.338083  \n",
      "min         0.000000       0.000000        0.000000       0.000000  \n",
      "25%         1.000000       0.000000        0.000000    3731.000000  \n",
      "50%         1.000000       0.000000        0.000000    5746.000000  \n",
      "75%         1.000000       1.000000        0.000000    7860.000000  \n",
      "max         1.000000       1.000000        1.000000   41551.000000  \n"
     ]
    }
   ],
   "source": [
    "# Visualize the data with correlation matrix\n",
    "print(\"Shape of the data: \", customer_data.shape)\n",
    "print(\"data types = \", customer_data.dtypes)\n",
    "print(customer_data.describe())"
   ]
  },
  {
   "cell_type": "code",
   "execution_count": 4,
   "id": "c742773f",
   "metadata": {},
   "outputs": [
    {
     "name": "stdout",
     "output_type": "stream",
     "text": [
      "Empty DataFrame\n",
      "Columns: [has_missing, missing_count, missing_pct]\n",
      "Index: []\n"
     ]
    }
   ],
   "source": [
    "missing_info = pd.DataFrame({\n",
    "    \"has_missing\": customer_data.isna().any(),\n",
    "    \"missing_count\": customer_data.isna().sum(),\n",
    "    \"missing_pct\": (customer_data.isna().sum() / len(customer_data) * 100).round(2)\n",
    "})\n",
    "missing_info = missing_info[missing_info[\"has_missing\"]]\n",
    "print(missing_info)\n",
    "cols_with_na = missing_info.index.tolist()\n"
   ]
  },
  {
   "cell_type": "code",
   "execution_count": 5,
   "id": "ddda19f8",
   "metadata": {},
   "outputs": [],
   "source": [
    "#Checking state-holiday values and conert to categorical\n",
    "customer_data[\"state_holiday\"].unique()\n",
    "sh_dict = {'0': 0, 'a': 1, 'b': 2, 'c': 3}\n",
    "customer_data[\"state_holiday\"] = customer_data[\"state_holiday\"].map(sh_dict)\n",
    "\n"
   ]
  },
  {
   "cell_type": "code",
   "execution_count": 6,
   "id": "ff90e42b",
   "metadata": {},
   "outputs": [
    {
     "data": {
      "text/plain": [
       "array([0, 1, 3, 2], dtype=int64)"
      ]
     },
     "execution_count": 6,
     "metadata": {},
     "output_type": "execute_result"
    }
   ],
   "source": [
    "customer_data[\"state_holiday\"].unique()"
   ]
  },
  {
   "cell_type": "code",
   "execution_count": 7,
   "id": "77a712e2",
   "metadata": {},
   "outputs": [],
   "source": [
    "#1. Clean up and type-casting\n",
    "#Drop the redundant index column\n",
    "#The Unnamed: 0 column appears to be just the original row index. You can safely drop it:\n",
    "customer_data = customer_data.drop(columns='Unnamed: 0')\n",
    "\n",
    "#Convert date to datetime\n",
    "#convert it so you can extract time-based features and do time‐series plots:\n",
    "customer_data['date'] = pd.to_datetime(customer_data['date'])"
   ]
  },
  {
   "cell_type": "code",
   "execution_count": 8,
   "id": "8323d42d",
   "metadata": {},
   "outputs": [],
   "source": [
    "# For second model approach : categorical approach\n",
    "#Cast categorical fields\n",
    "#Columns like day_of_week, open, promotion, state_holiday and school_holiday should be converted to category dtype in pandas. This both saves memory and makes plotting & grouping easier:\n",
    "\n",
    "# for col in ['day_of_week','open','promotion','state_holiday','school_holiday']:\n",
    "#    customer_data[col] = customer_data[col].astype('category')"
   ]
  },
  {
   "cell_type": "code",
   "execution_count": 9,
   "id": "06bd5c48",
   "metadata": {},
   "outputs": [],
   "source": [
    "#2. Feature engineering\n",
    "#\"Once your date is a datetime, you can create new features that often help boost model performance or reveal patterns in EDA:\n",
    "\n",
    "#Temporal features\n",
    "\n",
    "customer_data['year']   = customer_data['date'].dt.year\n",
    "customer_data['month']  = customer_data['date'].dt.month\n",
    "customer_data['dow']    = customer_data['date'].dt.dayofweek  # Monday=0 … Sunday=6\n",
    "customer_data['weekofyear'] = customer_data['date'].dt.isocalendar().week"
   ]
  },
  {
   "cell_type": "code",
   "execution_count": 10,
   "id": "af320a3a",
   "metadata": {},
   "outputs": [],
   "source": [
    "#Promotional lag features\n",
    "#Capture whether a store was on promotion in the last 7 days, or count how many promo days in the past month.\n",
    "\n",
    "customer_data = customer_data.sort_values(['store_ID','date'])\n",
    "customer_data['promo_7d'] = (customer_data\n",
    "    .groupby('store_ID')['promotion']\n",
    "    .rolling(window=7, min_periods=1).sum()\n",
    "    .reset_index(0,drop=True))\n"
   ]
  }
 ],
 "metadata": {
  "kernelspec": {
   "display_name": "base",
   "language": "python",
   "name": "python3"
  },
  "language_info": {
   "codemirror_mode": {
    "name": "ipython",
    "version": 3
   },
   "file_extension": ".py",
   "mimetype": "text/x-python",
   "name": "python",
   "nbconvert_exporter": "python",
   "pygments_lexer": "ipython3",
   "version": "3.12.7"
  }
 },
 "nbformat": 4,
 "nbformat_minor": 5
}
